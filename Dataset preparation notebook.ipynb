{
 "cells": [
  {
   "cell_type": "code",
   "execution_count": 16,
   "metadata": {},
   "outputs": [],
   "source": [
    "from PIL import Image\n",
    "import csv\n",
    "import os\n",
    "\n",
    "data=[]\n",
    "\n",
    "with open('project.csv', 'w', newline='') as writeFile:\n",
    "    writer = csv.writer(writeFile)\n",
    "    for filename in os.listdir(\"E:\\\\paid project steel defect\\\\New folder-20210328T162104Z-001\"):\n",
    "        data.append(filename)\n",
    "        writer.writerow(data)\n",
    "        data=[]\n",
    "writeFile.close()"
   ]
  },
  {
   "cell_type": "code",
   "execution_count": 13,
   "metadata": {},
   "outputs": [],
   "source": [
    "\n",
    "# importing os module\n",
    "import os\n",
    "  \n",
    "# Files will save here\n",
    "os.chdir('E:\\\\paid project steel defect\\\\New folder-20210328T162104Z-001')\n",
    "i=1\n",
    "for file in os.listdir():\n",
    "    src=file\n",
    "    dst=\"Scratches\"+str(i)+\".jpg\"\n",
    "    os.rename(src,dst)\n",
    "    i+=1"
   ]
  },
  {
   "cell_type": "code",
   "execution_count": null,
   "metadata": {},
   "outputs": [],
   "source": []
  }
 ],
 "metadata": {
  "kernelspec": {
   "display_name": "Python 3",
   "language": "python",
   "name": "python3"
  },
  "language_info": {
   "codemirror_mode": {
    "name": "ipython",
    "version": 3
   },
   "file_extension": ".py",
   "mimetype": "text/x-python",
   "name": "python",
   "nbconvert_exporter": "python",
   "pygments_lexer": "ipython3",
   "version": "3.8.5"
  }
 },
 "nbformat": 4,
 "nbformat_minor": 4
}
